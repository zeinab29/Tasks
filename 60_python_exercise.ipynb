{
  "cells": [
    {
      "cell_type": "markdown",
      "metadata": {
        "id": "view-in-github",
        "colab_type": "text"
      },
      "source": [
        "<a href=\"https://colab.research.google.com/github/zeinab29/Tasks/blob/main/60_python_exercise.ipynb\" target=\"_parent\"><img src=\"https://colab.research.google.com/assets/colab-badge.svg\" alt=\"Open In Colab\"/></a>"
      ]
    },
    {
      "cell_type": "markdown",
      "id": "759d04ba",
      "metadata": {
        "id": "759d04ba"
      },
      "source": [
        "**1-Write a Python program to calculate the length of a string using 2 ways"
      ]
    },
    {
      "cell_type": "code",
      "execution_count": null,
      "id": "e434c950",
      "metadata": {
        "colab": {
          "base_uri": "https://localhost:8080/"
        },
        "id": "e434c950",
        "outputId": "27a4e32f-7567-4d45-9bc0-a9c831f125f1"
      },
      "outputs": [
        {
          "name": "stdout",
          "output_type": "stream",
          "text": [
            "read\n"
          ]
        },
        {
          "output_type": "execute_result",
          "data": {
            "text/plain": [
              "4"
            ]
          },
          "metadata": {},
          "execution_count": 1
        }
      ],
      "source": [
        "string=input()\n",
        "len(string)"
      ]
    },
    {
      "cell_type": "code",
      "execution_count": null,
      "id": "7a2dfa32",
      "metadata": {
        "colab": {
          "base_uri": "https://localhost:8080/"
        },
        "id": "7a2dfa32",
        "outputId": "1968091e-fdca-4406-e97a-5ec444519de6"
      },
      "outputs": [
        {
          "name": "stdout",
          "output_type": "stream",
          "text": [
            "res\n"
          ]
        },
        {
          "output_type": "execute_result",
          "data": {
            "text/plain": [
              "3"
            ]
          },
          "metadata": {},
          "execution_count": 2
        }
      ],
      "source": [
        "string=input()\n",
        "length=0\n",
        "for i in string:\n",
        "  length+=1\n",
        "length"
      ]
    },
    {
      "cell_type": "markdown",
      "id": "d7cc9da7",
      "metadata": {
        "id": "d7cc9da7"
      },
      "source": [
        "a**2-Write a Python program to get a string made of the first 2 and last 2 characters of a given string. If the string length is less than 2, return the empty string instead (\"##Sample String : 'w3resource'\n",
        "Expected Result : 'w3ce'\n",
        "##Sample String : 'w3'\n",
        "Expected Result : 'w3w3'\n",
        "##Sample String : ' w'\n",
        "Expected Result : Empty String)"
      ]
    },
    {
      "cell_type": "code",
      "execution_count": null,
      "id": "dafa9dd8",
      "metadata": {
        "colab": {
          "base_uri": "https://localhost:8080/"
        },
        "id": "dafa9dd8",
        "outputId": "47185ec4-d80d-42e2-df58-42b697dd56e8"
      },
      "outputs": [
        {
          "output_type": "stream",
          "name": "stdout",
          "text": [
            "we\n",
            "wewe\n"
          ]
        }
      ],
      "source": [
        "sample=input()\n",
        "if len(sample)>=2:\n",
        "  print(sample[:2]+ sample[-2:])\n",
        "else:\n",
        "  print(\"empty string\")"
      ]
    },
    {
      "cell_type": "markdown",
      "id": "1534f956",
      "metadata": {
        "id": "1534f956"
      },
      "source": [
        "**3-Write a Python program to add 'ing' at the end of a given string (length should be at least 3). If the given string already ends with 'ing', add 'ly' instead. If the string length of the given string is less than 3, leave it unchanged. (Sample String : 'abc'\n",
        "Expected Result : 'abcing')"
      ]
    },
    {
      "cell_type": "code",
      "execution_count": null,
      "id": "7ff8cec4",
      "metadata": {
        "colab": {
          "base_uri": "https://localhost:8080/"
        },
        "id": "7ff8cec4",
        "outputId": "8cb9d74e-8336-471b-9791-8a099b9c89c8"
      },
      "outputs": [
        {
          "output_type": "stream",
          "name": "stdout",
          "text": [
            "kill\n",
            "killing\n"
          ]
        }
      ],
      "source": [
        "string = input()\n",
        "if len(string)<3:\n",
        "  print(string)\n",
        "elif string[-3:] == \"ing\":\n",
        "  print(string+\"ly\")\n",
        "else:\n",
        "  print(string+\"ing\")"
      ]
    },
    {
      "cell_type": "markdown",
      "id": "1c0a6627",
      "metadata": {
        "id": "1c0a6627"
      },
      "source": [
        "**4-Write a Python function that takes a list of words and return the longest word and the length of the longest one\n",
        "(Longest word: Exercises\n",
        "Length of the longest word: 9)"
      ]
    },
    {
      "cell_type": "code",
      "execution_count": null,
      "id": "397341d9",
      "metadata": {
        "colab": {
          "base_uri": "https://localhost:8080/"
        },
        "id": "397341d9",
        "outputId": "c215dca7-9342-49f3-993c-5577aeab00a1"
      },
      "outputs": [
        {
          "output_type": "stream",
          "name": "stdout",
          "text": [
            "ebtisam 7\n"
          ]
        }
      ],
      "source": [
        "words = [\"ahmed\" , \"nour\" ,\"ebtisam\"]\n",
        "word = max(words,key=len)\n",
        "print(word,len(word))\n"
      ]
    },
    {
      "cell_type": "markdown",
      "id": "53a03a6a",
      "metadata": {
        "id": "53a03a6a"
      },
      "source": [
        "**5-Write a Python program to change a given string to a newly string where the first and last chars have been exchanged using 2 ways (Sample String:abca  Expected Result:ebce)"
      ]
    },
    {
      "cell_type": "code",
      "execution_count": null,
      "id": "fd327d2a",
      "metadata": {
        "colab": {
          "base_uri": "https://localhost:8080/",
          "height": 53
        },
        "id": "fd327d2a",
        "outputId": "5d6b74c4-1ed0-4f28-955c-017e2bdae112"
      },
      "outputs": [
        {
          "name": "stdout",
          "output_type": "stream",
          "text": [
            "sort\n"
          ]
        },
        {
          "output_type": "execute_result",
          "data": {
            "text/plain": [
              "'tors'"
            ],
            "application/vnd.google.colaboratory.intrinsic+json": {
              "type": "string"
            }
          },
          "metadata": {},
          "execution_count": 2
        }
      ],
      "source": [
        "sample = input()\n",
        "sample = sample[-1]+sample[1:-1]+sample[0]\n",
        "sample"
      ]
    },
    {
      "cell_type": "code",
      "execution_count": null,
      "id": "285788b4",
      "metadata": {
        "colab": {
          "base_uri": "https://localhost:8080/",
          "height": 53
        },
        "id": "285788b4",
        "outputId": "92f9bd50-4258-4428-a86f-a71aab1315d4"
      },
      "outputs": [
        {
          "name": "stdout",
          "output_type": "stream",
          "text": [
            "sort\n"
          ]
        },
        {
          "output_type": "execute_result",
          "data": {
            "text/plain": [
              "'tors'"
            ],
            "application/vnd.google.colaboratory.intrinsic+json": {
              "type": "string"
            }
          },
          "metadata": {},
          "execution_count": 13
        }
      ],
      "source": [
        "sample = input()\n",
        "s=list(sample)\n",
        "s[0],s[-1]=s[-1],s[0]\n",
        "sample=\"\".join(s)\n",
        "sample\n"
      ]
    },
    {
      "cell_type": "markdown",
      "id": "25f89808",
      "metadata": {
        "id": "25f89808"
      },
      "source": [
        "**6-Write a Python program to remove characters that have odd index values in a given string (Sample String:abca Expected Result:ac)"
      ]
    },
    {
      "cell_type": "code",
      "execution_count": null,
      "id": "05959bd7",
      "metadata": {
        "colab": {
          "base_uri": "https://localhost:8080/"
        },
        "id": "05959bd7",
        "outputId": "0842ccf3-76f4-46e4-f062-f6141c18b488"
      },
      "outputs": [
        {
          "output_type": "stream",
          "name": "stdout",
          "text": [
            "hello\n",
            "hlo\n"
          ]
        }
      ],
      "source": [
        "given_string=input()\n",
        "string =\"\"\n",
        "for i in range(len(given_string)):\n",
        "  if i %2==0:\n",
        "    string = string + given_string[i]\n",
        "print(string)"
      ]
    },
    {
      "cell_type": "markdown",
      "id": "eb16e898",
      "metadata": {
        "id": "eb16e898"
      },
      "source": [
        "**7-Write a Python program to count the occurrences of each word in a given sentence (Sample String:amr and ahmed are frindes but amr is the tallest Expected Result:2)"
      ]
    },
    {
      "cell_type": "code",
      "execution_count": null,
      "id": "01ce6cf5",
      "metadata": {
        "colab": {
          "base_uri": "https://localhost:8080/"
        },
        "id": "01ce6cf5",
        "outputId": "e32099cd-12f6-47fc-cae0-d101cfeafcaf"
      },
      "outputs": [
        {
          "output_type": "execute_result",
          "data": {
            "text/plain": [
              "{('ahmed', 1),\n",
              " ('amr', 2),\n",
              " ('and', 1),\n",
              " ('are', 1),\n",
              " ('but', 1),\n",
              " ('frindes', 1),\n",
              " ('is', 1),\n",
              " ('tallest', 1),\n",
              " ('the', 1)}"
            ]
          },
          "metadata": {},
          "execution_count": 20
        }
      ],
      "source": [
        "string=\"amr and ahmed are frindes but amr is the tallest\"\n",
        "words=string.split(\" \")\n",
        "s = set()\n",
        "for i in words:\n",
        "  s.add((i,string.count(i)))\n",
        "\n",
        "s\n",
        "\n"
      ]
    },
    {
      "cell_type": "markdown",
      "id": "4e8125f1",
      "metadata": {
        "id": "4e8125f1"
      },
      "source": [
        "**8-Write a Python script that takes input from the user and displays that input back in upper and lower cases"
      ]
    },
    {
      "cell_type": "code",
      "execution_count": null,
      "id": "66c8f778",
      "metadata": {
        "colab": {
          "base_uri": "https://localhost:8080/"
        },
        "id": "66c8f778",
        "outputId": "6b12ee04-cbc1-40cc-ee4b-89cbdb3f3524"
      },
      "outputs": [
        {
          "output_type": "stream",
          "name": "stdout",
          "text": [
            "hello world\n",
            "HELLO WORLD\n",
            "hello world\n"
          ]
        }
      ],
      "source": [
        "string = input()\n",
        "THE_UPPER = string.upper()\n",
        "THE_LOWER = string.lower()\n",
        "print(THE_UPPER)\n",
        "print(THE_LOWER)"
      ]
    },
    {
      "cell_type": "markdown",
      "id": "fcd68aa1",
      "metadata": {
        "id": "fcd68aa1"
      },
      "source": [
        "**9-Write a Python function to reverse a string if its length is a multiple of 4"
      ]
    },
    {
      "cell_type": "code",
      "execution_count": null,
      "id": "0671a931",
      "metadata": {
        "colab": {
          "base_uri": "https://localhost:8080/"
        },
        "id": "0671a931",
        "outputId": "29d1b2ae-1e34-4399-f22c-4c8523ea5c6f"
      },
      "outputs": [
        {
          "output_type": "stream",
          "name": "stdout",
          "text": [
            "look\n",
            "kool\n"
          ]
        }
      ],
      "source": [
        "string=input()\n",
        "if len(string) %4==0:\n",
        "  print(string[::-1])\n",
        "\n"
      ]
    },
    {
      "cell_type": "markdown",
      "id": "b577c68d",
      "metadata": {
        "id": "b577c68d"
      },
      "source": [
        "**10- Write a Python program to remove a newline in Python"
      ]
    },
    {
      "cell_type": "code",
      "execution_count": null,
      "id": "e0c6525a",
      "metadata": {
        "colab": {
          "base_uri": "https://localhost:8080/",
          "height": 36
        },
        "id": "e0c6525a",
        "outputId": "a0ac9f40-d663-48fb-e83c-12adcfd91586"
      },
      "outputs": [
        {
          "output_type": "execute_result",
          "data": {
            "text/plain": [
              "' my name is zeinab I am 23 years old'"
            ],
            "application/vnd.google.colaboratory.intrinsic+json": {
              "type": "string"
            }
          },
          "metadata": {},
          "execution_count": 35
        }
      ],
      "source": [
        "string = ''' my name is zeinab\n",
        "I am 23 years old'''\n",
        "string.replace(\"\\n\", \" \")"
      ]
    },
    {
      "cell_type": "markdown",
      "id": "80db5ae0",
      "metadata": {
        "id": "80db5ae0"
      },
      "source": [
        "**11-Write a Python program to check whether a string starts with specified characters"
      ]
    },
    {
      "cell_type": "code",
      "execution_count": 1,
      "id": "0cc4e03e",
      "metadata": {
        "id": "0cc4e03e",
        "colab": {
          "base_uri": "https://localhost:8080/"
        },
        "outputId": "539b5cd7-1c66-455e-b99a-7d8220d0ec64"
      },
      "outputs": [
        {
          "output_type": "stream",
          "name": "stdout",
          "text": [
            "asma\n",
            "Yes\n"
          ]
        }
      ],
      "source": [
        "string = input()\n",
        "ch =\"a\"\n",
        "if string[0]==ch:\n",
        "  print (\"Yes\")\n",
        "else:\n",
        "  print(\"No\")"
      ]
    },
    {
      "cell_type": "markdown",
      "id": "593a68db",
      "metadata": {
        "id": "593a68db"
      },
      "source": [
        "**12- Write a Python program to add prefix text to all of the lines in a string"
      ]
    },
    {
      "cell_type": "code",
      "execution_count": 5,
      "id": "d2e46ada",
      "metadata": {
        "id": "d2e46ada",
        "colab": {
          "base_uri": "https://localhost:8080/"
        },
        "outputId": "e3ba445e-35e1-48e6-dec2-0a2a5ee01c6f"
      },
      "outputs": [
        {
          "output_type": "stream",
          "name": "stdout",
          "text": [
            "The wheather is hot\n",
            "The wheather is bad \n",
            "The winter is better\n"
          ]
        }
      ],
      "source": [
        "string = '''wheather is hot\n",
        "wheather is bad\n",
        "winter is better'''\n",
        "split_lines = string.splitlines()\n",
        "for line in split_lines:\n",
        "  print( \"The \"+ line)\n"
      ]
    },
    {
      "cell_type": "markdown",
      "id": "86fa1543",
      "metadata": {
        "id": "86fa1543"
      },
      "source": [
        "**13-Write a Python program to print the following numbers up to 2 decimal places"
      ]
    },
    {
      "cell_type": "code",
      "execution_count": 10,
      "id": "cd4a9d89",
      "metadata": {
        "id": "cd4a9d89",
        "colab": {
          "base_uri": "https://localhost:8080/"
        },
        "outputId": "5da80630-51f7-4def-bffe-9595a2fb78fe"
      },
      "outputs": [
        {
          "output_type": "stream",
          "name": "stdout",
          "text": [
            "5.49\n"
          ]
        }
      ],
      "source": [
        "Num = 5.486325\n",
        "print(round(Num,2))\n"
      ]
    },
    {
      "cell_type": "markdown",
      "id": "452c0ab0",
      "metadata": {
        "id": "452c0ab0"
      },
      "source": [
        "**14-Write a Python program to print the following numbers up to 2 decimal places with a sign"
      ]
    },
    {
      "cell_type": "code",
      "execution_count": 11,
      "id": "73e82479",
      "metadata": {
        "id": "73e82479",
        "colab": {
          "base_uri": "https://localhost:8080/"
        },
        "outputId": "208f19fc-baab-41fe-919b-3c73899117a2"
      },
      "outputs": [
        {
          "output_type": "stream",
          "name": "stdout",
          "text": [
            "-5.49\n"
          ]
        }
      ],
      "source": [
        "Num = -5.486325\n",
        "print(round(Num,2))"
      ]
    },
    {
      "cell_type": "markdown",
      "id": "32b1811a",
      "metadata": {
        "id": "32b1811a"
      },
      "source": [
        "**15-Write a Python program to display a number with a comma separator"
      ]
    },
    {
      "cell_type": "code",
      "execution_count": 13,
      "id": "f30fc0b6",
      "metadata": {
        "id": "f30fc0b6",
        "colab": {
          "base_uri": "https://localhost:8080/"
        },
        "outputId": "92e6a11b-e1d4-459a-9271-45ef2f77007e"
      },
      "outputs": [
        {
          "output_type": "stream",
          "name": "stdout",
          "text": [
            "2,3\n"
          ]
        }
      ],
      "source": [
        "num = 2.3\n",
        "print (str(num).replace(\".\",\",\"))"
      ]
    },
    {
      "cell_type": "markdown",
      "id": "0477f487",
      "metadata": {
        "id": "0477f487"
      },
      "source": [
        "**16-Write a Python program to reverse a string using 2 ways"
      ]
    },
    {
      "cell_type": "code",
      "execution_count": 26,
      "id": "aa8beec8",
      "metadata": {
        "id": "aa8beec8",
        "colab": {
          "base_uri": "https://localhost:8080/",
          "height": 36
        },
        "outputId": "32c12594-6bc6-4fda-d5ca-2597c48cb370"
      },
      "outputs": [
        {
          "output_type": "execute_result",
          "data": {
            "text/plain": [
              "'dlrow olleh'"
            ],
            "application/vnd.google.colaboratory.intrinsic+json": {
              "type": "string"
            }
          },
          "metadata": {},
          "execution_count": 26
        }
      ],
      "source": [
        "string =\"hello world\"\n",
        "reversedString = string [::-1]\n",
        "reversedString"
      ]
    },
    {
      "cell_type": "code",
      "source": [
        "reversedString =\"\"\n",
        "for i in string:\n",
        "  reversedString = i +reversedString\n",
        "reversedString"
      ],
      "metadata": {
        "colab": {
          "base_uri": "https://localhost:8080/",
          "height": 36
        },
        "id": "ye_8JToZWr8t",
        "outputId": "76f2ed20-eb66-4621-8f9d-f71d14617469"
      },
      "id": "ye_8JToZWr8t",
      "execution_count": 27,
      "outputs": [
        {
          "output_type": "execute_result",
          "data": {
            "text/plain": [
              "'dlrow olleh'"
            ],
            "application/vnd.google.colaboratory.intrinsic+json": {
              "type": "string"
            }
          },
          "metadata": {},
          "execution_count": 27
        }
      ]
    },
    {
      "cell_type": "markdown",
      "id": "5afc3166",
      "metadata": {
        "id": "5afc3166"
      },
      "source": [
        " **17-Write a Python program to count repeated characters in a string (hint:use dictionary)"
      ]
    },
    {
      "cell_type": "code",
      "execution_count": 35,
      "id": "515a469c",
      "metadata": {
        "id": "515a469c",
        "colab": {
          "base_uri": "https://localhost:8080/"
        },
        "outputId": "0f0317f1-2d9f-4e2d-d1de-95faf0d7b1ef"
      },
      "outputs": [
        {
          "output_type": "execute_result",
          "data": {
            "text/plain": [
              "{'Z': 1, 'e': 2, 'i': 1, 'n': 1, 'a': 2, 'b': 1, 'S': 1, 'l': 1, 'm': 1}"
            ]
          },
          "metadata": {},
          "execution_count": 35
        }
      ],
      "source": [
        "string=\"ZeinabSalem\"\n",
        "chs=list(string)\n",
        "characters = dict()\n",
        "for i in chs:\n",
        "  characters[i]=string.count(i)\n",
        "characters"
      ]
    },
    {
      "cell_type": "markdown",
      "id": "ae14e4e5",
      "metadata": {
        "id": "ae14e4e5"
      },
      "source": [
        "**18-Write a Python program to find the first non-repeating character in a given string"
      ]
    },
    {
      "cell_type": "code",
      "execution_count": 37,
      "id": "d73778e5",
      "metadata": {
        "id": "d73778e5",
        "colab": {
          "base_uri": "https://localhost:8080/"
        },
        "outputId": "e1f5b6fe-fee1-41c4-b699-5355ee2ba248"
      },
      "outputs": [
        {
          "output_type": "stream",
          "name": "stdout",
          "text": [
            "l\n"
          ]
        }
      ],
      "source": [
        "string=\"aealkaase\"\n",
        "for ch in string:\n",
        "  if string.count(ch)==1:\n",
        "    print(ch)\n",
        "    break\n"
      ]
    },
    {
      "cell_type": "markdown",
      "id": "3adf5669",
      "metadata": {
        "id": "3adf5669"
      },
      "source": [
        "**19-Write a Python program to remove spaces from a given string"
      ]
    },
    {
      "cell_type": "code",
      "execution_count": 40,
      "id": "b4f22602",
      "metadata": {
        "id": "b4f22602",
        "colab": {
          "base_uri": "https://localhost:8080/",
          "height": 36
        },
        "outputId": "12fe8611-760e-45d7-d998-e6e316a8216f"
      },
      "outputs": [
        {
          "output_type": "execute_result",
          "data": {
            "text/plain": [
              "'MynameisZeinab'"
            ],
            "application/vnd.google.colaboratory.intrinsic+json": {
              "type": "string"
            }
          },
          "metadata": {},
          "execution_count": 40
        }
      ],
      "source": [
        "string = \"My name is Zeinab\"\n",
        "string.replace(\" \",\"\")"
      ]
    },
    {
      "cell_type": "markdown",
      "id": "734de60c",
      "metadata": {
        "id": "734de60c"
      },
      "source": [
        "**20-Write a Python program to count the number of non-empty substrings of a given string"
      ]
    },
    {
      "cell_type": "code",
      "execution_count": 42,
      "id": "ef3f2274",
      "metadata": {
        "id": "ef3f2274",
        "colab": {
          "base_uri": "https://localhost:8080/"
        },
        "outputId": "f60919f4-50f1-4d2e-e6ea-02baa6e4d750"
      },
      "outputs": [
        {
          "output_type": "execute_result",
          "data": {
            "text/plain": [
              "15.0"
            ]
          },
          "metadata": {},
          "execution_count": 42
        }
      ],
      "source": [
        "string =\"Hello\"\n",
        "substrings = len(string)*(len(string)+1)/2\n",
        "substrings"
      ]
    },
    {
      "cell_type": "markdown",
      "id": "509998e2",
      "metadata": {
        "id": "509998e2"
      },
      "source": [
        "**21-write a Python program to swap first and last element of any list."
      ]
    },
    {
      "cell_type": "code",
      "execution_count": 49,
      "id": "68692d7f",
      "metadata": {
        "id": "68692d7f",
        "colab": {
          "base_uri": "https://localhost:8080/"
        },
        "outputId": "b9c43e47-e65a-49a0-d9be-37f97e437266"
      },
      "outputs": [
        {
          "output_type": "execute_result",
          "data": {
            "text/plain": [
              "[6, 2, 5, 1]"
            ]
          },
          "metadata": {},
          "execution_count": 49
        }
      ],
      "source": [
        "l = [1,2,5,6]\n",
        "l[0],l[-1]=l[-1],l[0]\n",
        "l"
      ]
    },
    {
      "cell_type": "code",
      "source": [
        "l = ['ab','b','c']\n",
        "l[0],l[-1]=l[-1],l[0]\n",
        "l"
      ],
      "metadata": {
        "colab": {
          "base_uri": "https://localhost:8080/"
        },
        "id": "tPgusgq2iDJ-",
        "outputId": "cea06fc1-816f-4239-b346-07fbce550b7d"
      },
      "id": "tPgusgq2iDJ-",
      "execution_count": 50,
      "outputs": [
        {
          "output_type": "execute_result",
          "data": {
            "text/plain": [
              "['c', 'b', 'ab']"
            ]
          },
          "metadata": {},
          "execution_count": 50
        }
      ]
    },
    {
      "cell_type": "markdown",
      "id": "959e0837",
      "metadata": {
        "id": "959e0837"
      },
      "source": [
        "**22-Given a list in Python and provided the positions of the elements, write a program to swap the two elements in the list. (Input : List = [23, 65, 19, 90], pos1 = 1, pos2 = 3\n",
        "Output : [19, 65, 23, 90])"
      ]
    },
    {
      "cell_type": "code",
      "execution_count": 55,
      "id": "225d8c6d",
      "metadata": {
        "id": "225d8c6d",
        "colab": {
          "base_uri": "https://localhost:8080/"
        },
        "outputId": "37ce3d02-5e74-457e-86cb-72f861054c20"
      },
      "outputs": [
        {
          "name": "stdout",
          "output_type": "stream",
          "text": [
            "pleas enter pos1: 0\n",
            "pleas enter pos2: 2\n"
          ]
        },
        {
          "output_type": "execute_result",
          "data": {
            "text/plain": [
              "[19, 65, 23, 90]"
            ]
          },
          "metadata": {},
          "execution_count": 55
        }
      ],
      "source": [
        "List = [23, 65, 19, 90]\n",
        "pos1 = int(input(\"pleas enter pos1: \"))\n",
        "pos2 = int(input(\"pleas enter pos2: \"))\n",
        "List[pos1],List[pos2]=List[pos2],List[pos1]\n",
        "List"
      ]
    },
    {
      "cell_type": "markdown",
      "id": "66fc6682",
      "metadata": {
        "id": "66fc6682"
      },
      "source": [
        "**23- search for the all ways to know the length of the list"
      ]
    },
    {
      "cell_type": "code",
      "source": [
        "List = [23, 65, 19, 90]\n",
        "len(List)"
      ],
      "metadata": {
        "colab": {
          "base_uri": "https://localhost:8080/"
        },
        "id": "rFY8SeBTigHn",
        "outputId": "e2120f06-e87e-43eb-fcfd-8280f5ca8b3a"
      },
      "id": "rFY8SeBTigHn",
      "execution_count": 56,
      "outputs": [
        {
          "output_type": "execute_result",
          "data": {
            "text/plain": [
              "4"
            ]
          },
          "metadata": {},
          "execution_count": 56
        }
      ]
    },
    {
      "cell_type": "code",
      "source": [
        "length = 0\n",
        "for i in List:\n",
        "  length+=1\n",
        "length"
      ],
      "metadata": {
        "colab": {
          "base_uri": "https://localhost:8080/"
        },
        "id": "Ut8mR0BtjzmK",
        "outputId": "2f46b391-96b4-49a8-96ee-6a1ea0b458aa"
      },
      "id": "Ut8mR0BtjzmK",
      "execution_count": 58,
      "outputs": [
        {
          "output_type": "execute_result",
          "data": {
            "text/plain": [
              "4"
            ]
          },
          "metadata": {},
          "execution_count": 58
        }
      ]
    },
    {
      "cell_type": "markdown",
      "source": [
        "**24-write a Python code to find the Maximum number of list of numbers.\n"
      ],
      "metadata": {
        "id": "XKLiyJA7hqcF"
      },
      "id": "XKLiyJA7hqcF"
    },
    {
      "cell_type": "code",
      "execution_count": 59,
      "id": "15f342de",
      "metadata": {
        "id": "15f342de",
        "colab": {
          "base_uri": "https://localhost:8080/"
        },
        "outputId": "755644fc-8427-4c9c-9282-db61d126acd3"
      },
      "outputs": [
        {
          "output_type": "execute_result",
          "data": {
            "text/plain": [
              "90"
            ]
          },
          "metadata": {},
          "execution_count": 59
        }
      ],
      "source": [
        "List = [23, 65, 19, 90]\n",
        "max(List)"
      ]
    },
    {
      "cell_type": "markdown",
      "source": [
        "**25-write a Python code to find the Minimum number of list of numbers."
      ],
      "metadata": {
        "id": "X9eEsDQ-kgBP"
      },
      "id": "X9eEsDQ-kgBP"
    },
    {
      "cell_type": "code",
      "execution_count": 60,
      "id": "21f8cbd6",
      "metadata": {
        "id": "21f8cbd6",
        "colab": {
          "base_uri": "https://localhost:8080/"
        },
        "outputId": "4a7dcfce-433f-4093-9edf-9c6c7b7c8aad"
      },
      "outputs": [
        {
          "output_type": "execute_result",
          "data": {
            "text/plain": [
              "19"
            ]
          },
          "metadata": {},
          "execution_count": 60
        }
      ],
      "source": [
        "List = [23, 65, 19, 90]\n",
        "min(List)"
      ]
    },
    {
      "cell_type": "markdown",
      "id": "96822d96",
      "metadata": {
        "id": "96822d96"
      },
      "source": [
        "**26-search for if an elem is existing in list"
      ]
    },
    {
      "cell_type": "code",
      "execution_count": 62,
      "id": "51ca5c9a",
      "metadata": {
        "id": "51ca5c9a",
        "colab": {
          "base_uri": "https://localhost:8080/"
        },
        "outputId": "a4b9107f-ab8b-423d-b7a6-4f134386fae5"
      },
      "outputs": [
        {
          "output_type": "stream",
          "name": "stdout",
          "text": [
            "elem is not existing in list\n"
          ]
        }
      ],
      "source": [
        "List = [23, 65, 19, 90]\n",
        "elem =3\n",
        "if elem in List:\n",
        "  print(\"elem is existing in list\")\n",
        "else:\n",
        "  print(\"elem is not existing in list\")\n"
      ]
    },
    {
      "cell_type": "markdown",
      "id": "d9557da7",
      "metadata": {
        "id": "d9557da7"
      },
      "source": [
        "**27- clear python list using different ways"
      ]
    },
    {
      "cell_type": "code",
      "execution_count": 64,
      "id": "b69858a3",
      "metadata": {
        "id": "b69858a3",
        "colab": {
          "base_uri": "https://localhost:8080/"
        },
        "outputId": "a4de1aef-f387-46f4-e10a-af844dba9904"
      },
      "outputs": [
        {
          "output_type": "execute_result",
          "data": {
            "text/plain": [
              "[]"
            ]
          },
          "metadata": {},
          "execution_count": 64
        }
      ],
      "source": [
        "List = [23, 65, 19, 90]\n",
        "List.clear()\n",
        "List"
      ]
    },
    {
      "cell_type": "code",
      "source": [
        "List = [23, 65, 19, 90]\n",
        "del List[:]\n",
        "List"
      ],
      "metadata": {
        "colab": {
          "base_uri": "https://localhost:8080/"
        },
        "id": "jdrMqyJmpvPY",
        "outputId": "35b9dfab-b6cb-4a42-d3a4-0ec2107b197e"
      },
      "id": "jdrMqyJmpvPY",
      "execution_count": 71,
      "outputs": [
        {
          "output_type": "execute_result",
          "data": {
            "text/plain": [
              "[]"
            ]
          },
          "metadata": {},
          "execution_count": 71
        }
      ]
    },
    {
      "cell_type": "code",
      "source": [
        "List = [23, 65, 19, 90]\n",
        "while len(List)!=0:\n",
        "  List.pop()\n",
        "List"
      ],
      "metadata": {
        "colab": {
          "base_uri": "https://localhost:8080/"
        },
        "id": "n_AiuZsLovgY",
        "outputId": "dec31d00-66c3-475a-93e4-2327f97e820e"
      },
      "id": "n_AiuZsLovgY",
      "execution_count": 72,
      "outputs": [
        {
          "output_type": "execute_result",
          "data": {
            "text/plain": [
              "[]"
            ]
          },
          "metadata": {},
          "execution_count": 72
        }
      ]
    },
    {
      "cell_type": "markdown",
      "id": "52160e88",
      "metadata": {
        "id": "52160e88"
      },
      "source": [
        "**28-remove duplicated elements from a list"
      ]
    },
    {
      "cell_type": "code",
      "execution_count": 74,
      "id": "5e362228",
      "metadata": {
        "id": "5e362228",
        "colab": {
          "base_uri": "https://localhost:8080/"
        },
        "outputId": "a8649553-3f15-4b3a-cde9-1cca57146d12"
      },
      "outputs": [
        {
          "output_type": "execute_result",
          "data": {
            "text/plain": [
              "[1, 2, 4]"
            ]
          },
          "metadata": {},
          "execution_count": 74
        }
      ],
      "source": [
        "l = [1,1,2,2,2,4]\n",
        "newList = list(set(l))\n",
        "newList"
      ]
    },
    {
      "cell_type": "markdown",
      "id": "282337f7",
      "metadata": {
        "id": "282337f7"
      },
      "source": [
        "\n",
        "**29-Given list values and keys list, convert these values to key value pairs in form of list of dictionaries. (Input : test_list = [“Gfg”, 3, “is”, 8], key_list = [“name”, “id”]\n",
        "Output : [{‘name’: ‘Gfg’, ‘id’: 3}, {‘name’: ‘is’, ‘id’: 8}])"
      ]
    },
    {
      "cell_type": "code",
      "execution_count": 10,
      "id": "4d4e2d28",
      "metadata": {
        "id": "4d4e2d28",
        "colab": {
          "base_uri": "https://localhost:8080/"
        },
        "outputId": "d69ddca4-dce1-4348-faf5-6e1462f32ddd"
      },
      "outputs": [
        {
          "output_type": "execute_result",
          "data": {
            "text/plain": [
              "[{'name': 'Gfg', 'id': 3}, {'name': 'is', 'id': 8}]"
            ]
          },
          "metadata": {},
          "execution_count": 10
        }
      ],
      "source": [
        "test_list = [\"Gfg\", 3, \"is\", 8]\n",
        "key_list = [\"name\", \"id\"]\n",
        "output = []\n",
        "n=len(test_list)\n",
        "for i in range(0,n,2):\n",
        "    output.append({key_list[0]:test_list[i],key_list[1]:test_list[i+1]})\n",
        "output"
      ]
    },
    {
      "cell_type": "markdown",
      "id": "c26b6e9f",
      "metadata": {
        "id": "c26b6e9f"
      },
      "source": [
        "**30-write a python program to count unique values inside a list using\n",
        "different ways"
      ]
    },
    {
      "cell_type": "code",
      "execution_count": 12,
      "id": "72132667",
      "metadata": {
        "id": "72132667",
        "colab": {
          "base_uri": "https://localhost:8080/"
        },
        "outputId": "8eaec554-872f-408a-a46d-0c2c1d41b1e7"
      },
      "outputs": [
        {
          "output_type": "execute_result",
          "data": {
            "text/plain": [
              "4"
            ]
          },
          "metadata": {},
          "execution_count": 12
        }
      ],
      "source": [
        "test_list = [4, 6, 4, 3, 3, 4, 3, 4, 3, 8]\n",
        "unique_list = set(test_list)\n",
        "len(unique_list)"
      ]
    },
    {
      "cell_type": "code",
      "source": [
        "test_list = [4, 6, 4, 3, 3, 4, 3, 4, 3, 8]\n",
        "unique_list =[]\n",
        "for item in test_list:\n",
        "  if item not in unique_list:\n",
        "    unique_list.append(item)\n",
        "    item += 1\n",
        "len(unique_list)"
      ],
      "metadata": {
        "colab": {
          "base_uri": "https://localhost:8080/"
        },
        "id": "LP_h7LvVH8M6",
        "outputId": "43b72c06-6858-4093-feb6-b8abf4a94e18"
      },
      "id": "LP_h7LvVH8M6",
      "execution_count": 15,
      "outputs": [
        {
          "output_type": "execute_result",
          "data": {
            "text/plain": [
              "4"
            ]
          },
          "metadata": {},
          "execution_count": 15
        }
      ]
    },
    {
      "cell_type": "markdown",
      "id": "fed6677c",
      "metadata": {
        "id": "fed6677c"
      },
      "source": [
        "**31-write a python program Extract all elements with Frequency greater than K (Input : test_list = [4, 6, 4, 3, 3, 4, 3, 4, 3, 8], K = 3\n",
        "Output : [4, 3] )"
      ]
    },
    {
      "cell_type": "code",
      "execution_count": 20,
      "id": "d81f3f9d",
      "metadata": {
        "id": "d81f3f9d",
        "colab": {
          "base_uri": "https://localhost:8080/"
        },
        "outputId": "e0797ef8-ccb0-4237-d562-7c7e4949a859"
      },
      "outputs": [
        {
          "output_type": "execute_result",
          "data": {
            "text/plain": [
              "[3, 4]"
            ]
          },
          "metadata": {},
          "execution_count": 20
        }
      ],
      "source": [
        "test_list = [4, 6, 4, 3, 3, 4, 3, 4, 3, 8]\n",
        "for i in test_list:\n",
        "  if i > 4:\n",
        "    test_list.remove(i)\n",
        "list(set(test_list))"
      ]
    },
    {
      "cell_type": "markdown",
      "id": "caca5224",
      "metadata": {
        "id": "caca5224"
      },
      "source": [
        "**32-write a python program to find the Strongest Neighbour (Input: 1 2 2 3 4 5\n",
        "Output: 2 2 3 4 5)"
      ]
    },
    {
      "cell_type": "code",
      "execution_count": 23,
      "id": "39fbd9b2",
      "metadata": {
        "id": "39fbd9b2",
        "colab": {
          "base_uri": "https://localhost:8080/"
        },
        "outputId": "a0a61e5a-69ea-4d49-c15d-e59cdabfc09c"
      },
      "outputs": [
        {
          "output_type": "stream",
          "name": "stdout",
          "text": [
            "2 2 3 4 5 "
          ]
        }
      ],
      "source": [
        "List = [1,2,2,3,4,5]\n",
        "output = []\n",
        "for i in range(1,len(List)):\n",
        "  strongest=max(List[i],List[i-1])\n",
        "  output.append(strongest)\n",
        "for n in output:\n",
        "  print(n,end=\" \")"
      ]
    },
    {
      "cell_type": "markdown",
      "id": "a9fa8baf",
      "metadata": {
        "id": "a9fa8baf"
      },
      "source": [
        "**33-write a Python Program to print all Possible Combinations from the three Digits (Input: [1, 2, 3]\n",
        "\n",
        "\n",
        "\n",
        "\n",
        "Output:\n",
        "1 2 3 ##\n",
        "1 3 2 ##\n",
        "2 1 3 ##\n",
        "2 3 1 ##\n",
        "3 1 2 ##\n",
        "3 2 1)"
      ]
    },
    {
      "cell_type": "code",
      "execution_count": 25,
      "id": "8c520a76",
      "metadata": {
        "id": "8c520a76",
        "colab": {
          "base_uri": "https://localhost:8080/"
        },
        "outputId": "5be90332-8898-4c13-8702-f2e26acad881"
      },
      "outputs": [
        {
          "output_type": "stream",
          "name": "stdout",
          "text": [
            "1 2 3\n",
            "1 3 2\n",
            "2 1 3\n",
            "2 3 1\n",
            "3 1 2\n",
            "3 2 1\n"
          ]
        }
      ],
      "source": [
        "List =[1,2,3]\n",
        "for i in range(3):\n",
        "  for j in range(3):\n",
        "    for k in range(3):\n",
        "      if(i!=j&j!=k&k!=i):\n",
        "        print(List[i],List[j],List[k])"
      ]
    },
    {
      "cell_type": "markdown",
      "id": "5288bb89",
      "metadata": {
        "id": "5288bb89"
      },
      "source": [
        "**34-write a Python program to find all the Combinations in the list with the given condition (Input: test_list = [1,2,3]\n",
        "Output:\n",
        " [1], [1, 2], [1, 2, 3], [1, 3]\n",
        " [2], [2, 3], [3])"
      ]
    },
    {
      "cell_type": "code",
      "execution_count": 99,
      "id": "59b89646",
      "metadata": {
        "id": "59b89646",
        "colab": {
          "base_uri": "https://localhost:8080/"
        },
        "outputId": "3e86c532-59ec-429a-9e61-d8184c89fa77"
      },
      "outputs": [
        {
          "output_type": "stream",
          "name": "stdout",
          "text": [
            "[(1,), (2,), (3,)]\n",
            "[(1, 2), (1, 3), (2, 3)]\n",
            "[(1, 2, 3)]\n"
          ]
        }
      ],
      "source": [
        "from itertools import combinations\n",
        "test_list = [1,2,3]\n",
        "for i in test_list:\n",
        "  print(list(combinations(test_list, i)))\n"
      ]
    },
    {
      "cell_type": "markdown",
      "id": "39973705",
      "metadata": {
        "id": "39973705"
      },
      "source": [
        "**35-write a Python program to get all unique combinations of two Lists (List_1 = [\"a\",\"b\"]\n",
        "List_2 = [1,2]\n",
        "Unique_combination = [[('a',1),('b',2)],[('a',2),('b',1)]] )"
      ]
    },
    {
      "cell_type": "code",
      "execution_count": 106,
      "id": "8c4ba22b",
      "metadata": {
        "id": "8c4ba22b",
        "colab": {
          "base_uri": "https://localhost:8080/"
        },
        "outputId": "3dab7e80-671d-4961-fd6f-b3a2d4a019ce"
      },
      "outputs": [
        {
          "output_type": "execute_result",
          "data": {
            "text/plain": [
              "[('a', 1), ('a', 2), ('b', 1), ('b', 2)]"
            ]
          },
          "metadata": {},
          "execution_count": 106
        }
      ],
      "source": [
        "List_1 = [\"a\",\"b\"]\n",
        "List_2 = [1,2]\n",
        "ls=[]\n",
        "for i in List_1:\n",
        "  for j in List_2:\n",
        "    ls.append((i,j))\n",
        "ls"
      ]
    },
    {
      "cell_type": "markdown",
      "id": "25199af5",
      "metadata": {
        "id": "25199af5"
      },
      "source": [
        "**36-Remove all the occurrences of an element from a list in Python (Input : 1 1 2 3 4 5 1 2 1\n",
        "\n",
        "**Output : 2 3 4 5 2)"
      ]
    },
    {
      "cell_type": "code",
      "source": [
        "ls =[1, 1, 2, 3, 4, 5, 1, 2, 1]\n",
        "while 1 in ls:\n",
        "  ls.remove(1)\n",
        "ls"
      ],
      "metadata": {
        "colab": {
          "base_uri": "https://localhost:8080/"
        },
        "id": "DiNiJ58Ax7Xu",
        "outputId": "c3ad505a-8d77-4897-c131-50dcd0f1fba7"
      },
      "id": "DiNiJ58Ax7Xu",
      "execution_count": 128,
      "outputs": [
        {
          "output_type": "execute_result",
          "data": {
            "text/plain": [
              "[2, 3, 4, 5, 2]"
            ]
          },
          "metadata": {},
          "execution_count": 128
        }
      ]
    },
    {
      "cell_type": "markdown",
      "id": "bf1a3c93",
      "metadata": {
        "id": "bf1a3c93"
      },
      "source": [
        "**37-write a python program to Replace index elements with elements in Other List (The original list 1 is : [‘Gfg’, ‘is’, ‘best’] The original list 2 is : [0, 1, 2, 1, 0, 0, 0, 2, 1, 1, 2, 0] The lists after index elements replacements is : [‘Gfg’, ‘is’, ‘best’, ‘is’, ‘Gfg’, ‘Gfg’, ‘Gfg’, ‘best’, ‘is’, ‘is’, ‘best’, ‘Gfg’])"
      ]
    },
    {
      "cell_type": "code",
      "execution_count": 134,
      "id": "fdd66a71",
      "metadata": {
        "id": "fdd66a71",
        "colab": {
          "base_uri": "https://localhost:8080/"
        },
        "outputId": "24230783-a901-464d-a39e-a42668c55868"
      },
      "outputs": [
        {
          "output_type": "execute_result",
          "data": {
            "text/plain": [
              "['Gfg',\n",
              " 'is',\n",
              " 'best',\n",
              " 'is',\n",
              " 'Gfg',\n",
              " 'Gfg',\n",
              " 'Gfg',\n",
              " 'best',\n",
              " 'is',\n",
              " 'is',\n",
              " 'best',\n",
              " 'Gfg']"
            ]
          },
          "metadata": {},
          "execution_count": 134
        }
      ],
      "source": [
        "ls1=['Gfg', 'is', 'best']\n",
        "ls2= [0, 1, 2, 1, 0, 0, 0, 2, 1, 1, 2, 0]\n",
        "ls3=[]\n",
        "for i in ls2:\n",
        "  ls3.append(ls1[i])\n",
        "ls3"
      ]
    },
    {
      "cell_type": "markdown",
      "id": "af0f56e8",
      "metadata": {
        "id": "af0f56e8"
      },
      "source": [
        "**38- write python program to Retain records with N occurrences of K(Input : test_list = [(4, 5, 5, 4), (5, 4, 3)], K = 5, N = 2\n",
        "Output : [(4, 5, 5, 4)]\n",
        "Input : test_list = [(4, 5, 5, 4), (5, 4, 3)], K = 5, N = 3\n",
        "Output : [] )"
      ]
    },
    {
      "cell_type": "code",
      "execution_count": 142,
      "id": "67b06671",
      "metadata": {
        "id": "67b06671",
        "colab": {
          "base_uri": "https://localhost:8080/"
        },
        "outputId": "8cf31334-1462-4b6d-9aa0-23a6a8582437"
      },
      "outputs": [
        {
          "output_type": "execute_result",
          "data": {
            "text/plain": [
              "[(4, 5, 5, 4)]"
            ]
          },
          "metadata": {},
          "execution_count": 142
        }
      ],
      "source": [
        "test_list = [(4, 5, 5, 4), (5, 4, 3)]\n",
        "K = 5\n",
        "N = 2\n",
        "ls = [ i for i in test_list if i.count(K)==N]\n",
        "ls"
      ]
    },
    {
      "cell_type": "markdown",
      "id": "de76f183",
      "metadata": {
        "id": "de76f183"
      },
      "source": [
        "**39-write a Python Program to Sort the list according to the column using lambda\n",
        "array = [[1, 3, 3], [2, 1, 2], [3, 2, 1]]\n",
        "Output :\n",
        "Sorted array specific to column 0, [[1, 3, 3], [2, 1, 2], [3, 2, 1]]\n",
        "Sorted array specific to column 1, [[2, 1, 2], [3, 2, 1], [1, 3, 3]]\n",
        "Sorted array specific to column 2, [[3, 2, 1], [2, 1, 2], [1, 3, 3]]"
      ]
    },
    {
      "cell_type": "code",
      "execution_count": 156,
      "id": "dc883308",
      "metadata": {
        "id": "dc883308",
        "colab": {
          "base_uri": "https://localhost:8080/"
        },
        "outputId": "176a2e79-375c-4fd6-c764-6daee878da0d"
      },
      "outputs": [
        {
          "output_type": "execute_result",
          "data": {
            "text/plain": [
              "[[1, 3, 3], [2, 1, 2], [3, 2, 1]]"
            ]
          },
          "metadata": {},
          "execution_count": 156
        }
      ],
      "source": [
        "array = [[1, 3, 3], [2, 1, 2], [3, 2, 1]]\n",
        "sorted(array,key=lambda x:x[0])"
      ]
    },
    {
      "cell_type": "markdown",
      "source": [
        "**40- write a program to Sort Python Dictionaries by Key or Value\n",
        "Input:\n",
        "{'ravi': 10, 'rajnish': 9, 'sanjeev': 15, 'yash': 2, 'suraj': 32}\n",
        "\n",
        "Output:\n",
        "{'rajnish': 9, 'ravi': 10, 'sanjeev': 15, 'suraj': 32, 'yash': 2}"
      ],
      "metadata": {
        "id": "VRxwoJUjDNVV"
      },
      "id": "VRxwoJUjDNVV"
    },
    {
      "cell_type": "code",
      "execution_count": 165,
      "id": "d2e7b31f",
      "metadata": {
        "id": "d2e7b31f",
        "colab": {
          "base_uri": "https://localhost:8080/"
        },
        "outputId": "6ef170f6-2439-472c-d430-84744f61a548"
      },
      "outputs": [
        {
          "output_type": "execute_result",
          "data": {
            "text/plain": [
              "{'rajnish': 9, 'ravi': 10, 'sanjeev': 15, 'suraj': 32, 'yash': 2}"
            ]
          },
          "metadata": {},
          "execution_count": 165
        }
      ],
      "source": [
        "dict1={'ravi': 10, 'rajnish': 9, 'sanjeev': 15, 'yash': 2, 'suraj': 32}\n",
        "myKeys = sorted(dict1)\n",
        "sorted_dict = {i :dict1[i] for i in myKeys}\n",
        "sorted_dict"
      ]
    },
    {
      "cell_type": "markdown",
      "id": "ec63c23a",
      "metadata": {
        "id": "ec63c23a"
      },
      "source": [
        "**41-write python program to Remove keys with Values Greater than K ( Including mixed values )\n",
        "nput : test_dict = {‘Gfg’ : 3, ‘is’ : 7, ‘best’ : 10, ‘for’ : 6, ‘geeks’ : ‘CS’},\n",
        "K = 7\n",
        "Output : {‘Gfg’ : 3, ‘for’ : 6, ‘geeks’ : ‘CS’}"
      ]
    },
    {
      "cell_type": "code",
      "source": [
        "test_dict = {'Gfg' : 3, 'is' : 7, 'best' : 10, 'for' : 6, 'geeks' : 'CS'}\n",
        "k =6\n",
        "dict1={}\n",
        "for key in test_dict:\n",
        "   if not (isinstance(test_dict[key], int) and test_dict[key] > k):\n",
        "     dict1[key]=test_dict[key]\n",
        "dict1"
      ],
      "metadata": {
        "colab": {
          "base_uri": "https://localhost:8080/"
        },
        "id": "ea6v6pcObL1X",
        "outputId": "5ca900df-8040-4d56-a17c-74d7b98b775f"
      },
      "id": "ea6v6pcObL1X",
      "execution_count": 222,
      "outputs": [
        {
          "output_type": "execute_result",
          "data": {
            "text/plain": [
              "{'Gfg': 3, 'for': 6, 'geeks': 'CS'}"
            ]
          },
          "metadata": {},
          "execution_count": 222
        }
      ]
    },
    {
      "cell_type": "markdown",
      "id": "f143f0fe",
      "metadata": {
        "id": "f143f0fe"
      },
      "source": [
        "**42-Write a Python program to concatenate the following dictionaries to create a new one\n",
        "\n",
        "Sample Dictionary :\n",
        "dic1={1:10, 2:20}\n",
        "dic2={3:30, 4:40}\n",
        "dic3={5:50,6:60}\n",
        "Expected Result : {1: 10, 2: 20, 3: 30, 4: 40, 5: 50, 6: 60}"
      ]
    },
    {
      "cell_type": "code",
      "execution_count": 224,
      "id": "74ffdfea",
      "metadata": {
        "id": "74ffdfea",
        "colab": {
          "base_uri": "https://localhost:8080/"
        },
        "outputId": "1da97f9e-af84-4ae2-fba1-bd15403e801f"
      },
      "outputs": [
        {
          "output_type": "execute_result",
          "data": {
            "text/plain": [
              "{1: 10, 2: 20, 3: 30, 4: 40, 5: 50, 6: 60}"
            ]
          },
          "metadata": {},
          "execution_count": 224
        }
      ],
      "source": [
        "dict1={1:10, 2:20}\n",
        "dict2={3:30, 4:40}\n",
        "dict3={5:50,6:60}\n",
        "dict4 ={}\n",
        "for i in (dict1,dict2,dict3):\n",
        "  dict4.update(i)\n",
        "dict4"
      ]
    },
    {
      "cell_type": "markdown",
      "id": "fb04c93c",
      "metadata": {
        "id": "fb04c93c"
      },
      "source": [
        "**43-Write a Python program to iterate over dictionaries using for loops\n",
        "\n"
      ]
    },
    {
      "cell_type": "code",
      "execution_count": 2,
      "id": "6aebc470",
      "metadata": {
        "id": "6aebc470",
        "colab": {
          "base_uri": "https://localhost:8080/"
        },
        "outputId": "eed2b49b-76d7-408f-9a63-227fd4bcaf8b"
      },
      "outputs": [
        {
          "output_type": "stream",
          "name": "stdout",
          "text": [
            "30\n",
            "40\n"
          ]
        }
      ],
      "source": [
        "dict1={3:30, 4:40}\n",
        "for i in dict1.values():\n",
        "  print(i)"
      ]
    },
    {
      "cell_type": "markdown",
      "id": "5f491a9d",
      "metadata": {
        "id": "5f491a9d"
      },
      "source": [
        "**44- Write a Python script to merge two Python dictionaries"
      ]
    },
    {
      "cell_type": "code",
      "execution_count": 4,
      "id": "b8a14028",
      "metadata": {
        "id": "b8a14028",
        "colab": {
          "base_uri": "https://localhost:8080/"
        },
        "outputId": "82b07e5b-400f-4fd4-97b6-00cc5c9fd74e"
      },
      "outputs": [
        {
          "output_type": "execute_result",
          "data": {
            "text/plain": [
              "{'k1': 1, 'k2': 5, 'k3': 3, 'k4': 4}"
            ]
          },
          "metadata": {},
          "execution_count": 4
        }
      ],
      "source": [
        "dict1 = {\"k1\":1, \"k2\":5}\n",
        "dict2 = {\"k3\":3, \"k4\":4}\n",
        "dict1.update(dict2)\n",
        "dict1"
      ]
    },
    {
      "cell_type": "markdown",
      "id": "216fc72d",
      "metadata": {
        "id": "216fc72d"
      },
      "source": [
        "**45-Write a Python program to get the maximum and minimum values of a dictionary values"
      ]
    },
    {
      "cell_type": "code",
      "execution_count": 6,
      "id": "d6883f5f",
      "metadata": {
        "id": "d6883f5f",
        "colab": {
          "base_uri": "https://localhost:8080/"
        },
        "outputId": "e3aaaf42-0c19-43c9-d762-e38cb7be2521"
      },
      "outputs": [
        {
          "output_type": "stream",
          "name": "stdout",
          "text": [
            "the maximum value:  5\n",
            "the minimum value:  1\n"
          ]
        }
      ],
      "source": [
        "dict1 = {\"k1\":1, \"k2\":5}\n",
        "print(\"the maximum value: \",max(dict1.values()))\n",
        "print(\"the minimum value: \",min(dict1.values()))\n"
      ]
    },
    {
      "cell_type": "markdown",
      "id": "b6a53011",
      "metadata": {
        "id": "b6a53011"
      },
      "source": [
        "**46- Write a Python program to drop empty items from a given dictionary.\n",
        "Original Dictionary:\n",
        "{'c1': 'Red', 'c2': 'Green', 'c3': None}\n",
        "New Dictionary after dropping empty items:\n",
        "{'c1': 'Red', 'c2': 'Green'}"
      ]
    },
    {
      "cell_type": "code",
      "execution_count": 7,
      "id": "b5c6fecf",
      "metadata": {
        "id": "b5c6fecf",
        "colab": {
          "base_uri": "https://localhost:8080/"
        },
        "outputId": "db772e5d-d54f-483e-99ad-2a0467b5e8ef"
      },
      "outputs": [
        {
          "output_type": "execute_result",
          "data": {
            "text/plain": [
              "{'c1': 'Red', 'c2': 'Green'}"
            ]
          },
          "metadata": {},
          "execution_count": 7
        }
      ],
      "source": [
        "dict1 = {'c1': 'Red', 'c2': 'Green', 'c3': None}\n",
        "dict1 = {key:value for (key, value) in dict1.items() if value is not None}\n",
        "dict1"
      ]
    },
    {
      "cell_type": "markdown",
      "id": "46d718c7",
      "metadata": {
        "id": "46d718c7"
      },
      "source": [
        "**47-Write a Python program to create a tuple of numbers and print one item\n",
        "\n",
        "\n"
      ]
    },
    {
      "cell_type": "code",
      "execution_count": 13,
      "id": "13216ff5",
      "metadata": {
        "id": "13216ff5",
        "colab": {
          "base_uri": "https://localhost:8080/"
        },
        "outputId": "0796799f-b9e8-40d8-feca-2f42e11c9474"
      },
      "outputs": [
        {
          "output_type": "execute_result",
          "data": {
            "text/plain": [
              "9"
            ]
          },
          "metadata": {},
          "execution_count": 13
        }
      ],
      "source": [
        "numbers = (1,2,4,8,9)\n",
        "numbers[4]"
      ]
    },
    {
      "cell_type": "markdown",
      "id": "2be5b56b",
      "metadata": {
        "id": "2be5b56b"
      },
      "source": [
        "**48-Write a Python program to unpack a tuple into several variables"
      ]
    },
    {
      "cell_type": "code",
      "execution_count": 16,
      "id": "595f44be",
      "metadata": {
        "id": "595f44be",
        "colab": {
          "base_uri": "https://localhost:8080/"
        },
        "outputId": "5dabc941-a55b-47f7-a7a4-a81674f059a1"
      },
      "outputs": [
        {
          "output_type": "execute_result",
          "data": {
            "text/plain": [
              "1"
            ]
          },
          "metadata": {},
          "execution_count": 16
        }
      ],
      "source": [
        "numbers = (1,2,4,8,9)\n",
        "a,b,c,d,e = numbers\n",
        "a"
      ]
    },
    {
      "cell_type": "markdown",
      "id": "392388a7",
      "metadata": {
        "id": "392388a7"
      },
      "source": [
        "**49-Write a Python program to add an item to a tuple\n",
        "\n",
        "\n"
      ]
    },
    {
      "cell_type": "code",
      "execution_count": 21,
      "id": "54cc092e",
      "metadata": {
        "id": "54cc092e",
        "colab": {
          "base_uri": "https://localhost:8080/"
        },
        "outputId": "576d0a0f-2e69-4295-d864-f0ad5579dc43"
      },
      "outputs": [
        {
          "output_type": "execute_result",
          "data": {
            "text/plain": [
              "(1, 2, 4, 8, 9, 5)"
            ]
          },
          "metadata": {},
          "execution_count": 21
        }
      ],
      "source": [
        "numbers = (1,2,4,8,9)\n",
        "numbers += 5,\n",
        "numbers"
      ]
    },
    {
      "cell_type": "markdown",
      "id": "3e8fd124",
      "metadata": {
        "id": "3e8fd124"
      },
      "source": [
        "**50-Write a Python program to convert a tuple to a string"
      ]
    },
    {
      "cell_type": "code",
      "execution_count": 24,
      "id": "92a71ddc",
      "metadata": {
        "id": "92a71ddc",
        "colab": {
          "base_uri": "https://localhost:8080/",
          "height": 36
        },
        "outputId": "2a0cffe4-9631-429f-cc2d-853ef3db96ff"
      },
      "outputs": [
        {
          "output_type": "execute_result",
          "data": {
            "text/plain": [
              "'hello'"
            ],
            "application/vnd.google.colaboratory.intrinsic+json": {
              "type": "string"
            }
          },
          "metadata": {},
          "execution_count": 24
        }
      ],
      "source": [
        "tup =(\"h\",'e','l','l','o')\n",
        "string = \"\"\n",
        "for i in tup:\n",
        "  string += i\n",
        "string"
      ]
    },
    {
      "cell_type": "markdown",
      "id": "f4f64ef4",
      "metadata": {
        "id": "f4f64ef4"
      },
      "source": [
        "**51-Write a Python program to convert a list to a tuple"
      ]
    },
    {
      "cell_type": "code",
      "execution_count": 25,
      "id": "210d56d3",
      "metadata": {
        "id": "210d56d3",
        "colab": {
          "base_uri": "https://localhost:8080/"
        },
        "outputId": "e87f8c57-2040-4ed4-8bb1-436189c22824"
      },
      "outputs": [
        {
          "output_type": "execute_result",
          "data": {
            "text/plain": [
              "(1, 2, 4, 8, 6)"
            ]
          },
          "metadata": {},
          "execution_count": 25
        }
      ],
      "source": [
        "ls = [1,2,4,8,6]\n",
        "tuple(ls)"
      ]
    },
    {
      "cell_type": "markdown",
      "id": "b1e00ef7",
      "metadata": {
        "id": "b1e00ef7"
      },
      "source": [
        "**52-Write a Python program to reverse a tuple"
      ]
    },
    {
      "cell_type": "code",
      "execution_count": 27,
      "id": "f45bfdc7",
      "metadata": {
        "id": "f45bfdc7",
        "colab": {
          "base_uri": "https://localhost:8080/"
        },
        "outputId": "7e953e94-8693-43aa-9ec9-0ac58038e21b"
      },
      "outputs": [
        {
          "output_type": "execute_result",
          "data": {
            "text/plain": [
              "(6, 8, 4, 2, 1)"
            ]
          },
          "metadata": {},
          "execution_count": 27
        }
      ],
      "source": [
        "tup=(1, 2, 4, 8, 6)\n",
        "tup[::-1]"
      ]
    },
    {
      "cell_type": "markdown",
      "id": "3cd347d1",
      "metadata": {
        "id": "3cd347d1"
      },
      "source": [
        "**53-Write a Python program to replace the last value of tuples in a list.\n",
        "Sample list: [(10, 20, 40), (40, 50, 60), (70, 80, 90)]\n",
        "Expected Output: [(10, 20, 100), (40, 50, 100), (70, 80, 100)]"
      ]
    },
    {
      "cell_type": "code",
      "execution_count": 44,
      "id": "3c4a2a4c",
      "metadata": {
        "id": "3c4a2a4c",
        "colab": {
          "base_uri": "https://localhost:8080/"
        },
        "outputId": "9db04f74-c30f-4a6e-dc4a-132aebbd6335"
      },
      "outputs": [
        {
          "output_type": "stream",
          "name": "stdout",
          "text": [
            "[(10, 20, 100), (40, 50, 100), (70, 80, 100)]\n"
          ]
        }
      ],
      "source": [
        "ls = [(10, 20, 40), (40, 50, 60), (70, 80, 90)]\n",
        "print([i[:-1]+(100,)for i in ls])\n"
      ]
    },
    {
      "cell_type": "markdown",
      "id": "76bb7b39",
      "metadata": {
        "id": "76bb7b39"
      },
      "source": [
        "**54-Write a Python program to convert a given string list to a tuple\n",
        "Original string: python 3.0\n",
        "<class 'str'>\n",
        "Convert the said string to a tuple:\n",
        "('p', 'y', 't', 'h', 'o', 'n', '3', '.', '0')"
      ]
    },
    {
      "cell_type": "code",
      "execution_count": 45,
      "id": "51951937",
      "metadata": {
        "id": "51951937",
        "colab": {
          "base_uri": "https://localhost:8080/"
        },
        "outputId": "18e94f16-3000-487b-8d31-f784084e6b5a"
      },
      "outputs": [
        {
          "output_type": "execute_result",
          "data": {
            "text/plain": [
              "('p', 'y', 't', 'h', 'o', 'n', ' ', '3', '.', '0')"
            ]
          },
          "metadata": {},
          "execution_count": 45
        }
      ],
      "source": [
        "string= \"python 3.0\"\n",
        "tuple(string)"
      ]
    },
    {
      "cell_type": "markdown",
      "id": "5a1d5d97",
      "metadata": {
        "id": "5a1d5d97"
      },
      "source": [
        "**55-Write a Python program to calculate the average value of the numbers in a given tuple of tuples"
      ]
    },
    {
      "cell_type": "code",
      "execution_count": 2,
      "id": "834e7992",
      "metadata": {
        "id": "834e7992",
        "colab": {
          "base_uri": "https://localhost:8080/"
        },
        "outputId": "6395a429-98da-4d9e-a9c2-9dfb2501d7a7"
      },
      "outputs": [
        {
          "output_type": "stream",
          "name": "stdout",
          "text": [
            "the average:  2.0\n",
            "the average:  3.0\n",
            "the average:  3.3333333333333335\n"
          ]
        }
      ],
      "source": [
        "tuples = ((1,2,3),(4,4,1),(1,7,2))\n",
        "for i in tuples:\n",
        "  print(\"the average: \",sum(i)/len(i))"
      ]
    },
    {
      "cell_type": "markdown",
      "id": "51edab9c",
      "metadata": {
        "id": "51edab9c"
      },
      "source": [
        "**56-Write a Python program to add member(s) to a set."
      ]
    },
    {
      "cell_type": "code",
      "execution_count": 51,
      "id": "2b65df79",
      "metadata": {
        "id": "2b65df79",
        "colab": {
          "base_uri": "https://localhost:8080/"
        },
        "outputId": "263660e4-349f-4c51-fc72-ac4ad0507e82"
      },
      "outputs": [
        {
          "output_type": "execute_result",
          "data": {
            "text/plain": [
              "{1, 2, 3, 4, 5}"
            ]
          },
          "metadata": {},
          "execution_count": 51
        }
      ],
      "source": [
        "s={1,2,3}\n",
        "s.add(4)\n",
        "s.add(5)\n",
        "s"
      ]
    },
    {
      "cell_type": "markdown",
      "id": "965590cc",
      "metadata": {
        "id": "965590cc"
      },
      "source": [
        "**57-Write a Python program to remove an item from a set if it is present in the set."
      ]
    },
    {
      "cell_type": "code",
      "execution_count": 54,
      "id": "866bab28",
      "metadata": {
        "id": "866bab28",
        "colab": {
          "base_uri": "https://localhost:8080/"
        },
        "outputId": "11b00302-b783-4766-babf-717210194ee6"
      },
      "outputs": [
        {
          "output_type": "execute_result",
          "data": {
            "text/plain": [
              "{2, 3, 4, 5}"
            ]
          },
          "metadata": {},
          "execution_count": 54
        }
      ],
      "source": [
        "s={1, 2, 3, 4, 5}\n",
        "num = 1\n",
        "while num in s:\n",
        "  s.remove(num)\n",
        "s"
      ]
    },
    {
      "cell_type": "markdown",
      "id": "2b7cfed1",
      "metadata": {
        "id": "2b7cfed1"
      },
      "source": [
        "**58-Write a Python program to create an intersection,union,difference and symmetric difference of sets"
      ]
    },
    {
      "cell_type": "code",
      "execution_count": 59,
      "id": "7f94b7fe",
      "metadata": {
        "id": "7f94b7fe",
        "colab": {
          "base_uri": "https://localhost:8080/"
        },
        "outputId": "72863e56-55af-4057-f3fc-e2ac53f7d26a"
      },
      "outputs": [
        {
          "output_type": "stream",
          "name": "stdout",
          "text": [
            "the intersection:  {4, 5}\n",
            "the union:  {1, 2, 3, 4, 5, 6, 7}\n",
            "the difference:  {1, 2, 3}\n",
            "the Symmetric difference:  {1, 2, 3, 6, 7}\n"
          ]
        }
      ],
      "source": [
        "s1={1, 2, 3, 4, 5}\n",
        "s2={ 4, 5,6,7}\n",
        "print(\"the intersection: \", s1&s2)\n",
        "print(\"the union: \", s1|s2)\n",
        "print(\"the difference: \", s1-s2)\n",
        "print(\"the Symmetric difference: \", s1^s2)\n"
      ]
    },
    {
      "cell_type": "markdown",
      "id": "b94931e2",
      "metadata": {
        "id": "b94931e2"
      },
      "source": [
        "**59-Write a Python program to find the maximum and minimum values in a set"
      ]
    },
    {
      "cell_type": "code",
      "execution_count": 60,
      "id": "203f9600",
      "metadata": {
        "id": "203f9600",
        "colab": {
          "base_uri": "https://localhost:8080/"
        },
        "outputId": "bd57e6a2-d8cd-4fb8-c048-3662c76095f2"
      },
      "outputs": [
        {
          "output_type": "stream",
          "name": "stdout",
          "text": [
            "the maximum value:  5\n",
            "the minimum value:  1\n"
          ]
        }
      ],
      "source": [
        "s1={1, 2, 3, 4, 5}\n",
        "\n",
        "print(\"the maximum value: \",max(s1))\n",
        "print(\"the minimum value: \",min(s1))"
      ]
    },
    {
      "cell_type": "markdown",
      "id": "255fd554",
      "metadata": {
        "id": "255fd554"
      },
      "source": [
        "**60- Write a Python program that finds all pairs of elements in a list whose sum is equal to a given value."
      ]
    },
    {
      "cell_type": "code",
      "execution_count": 65,
      "id": "c2d94e1f",
      "metadata": {
        "id": "c2d94e1f",
        "colab": {
          "base_uri": "https://localhost:8080/"
        },
        "outputId": "c18ef1ff-bae0-43d2-c8fc-5c9a0d367db9"
      },
      "outputs": [
        {
          "output_type": "execute_result",
          "data": {
            "text/plain": [
              "[(3, 9), (5, 7)]"
            ]
          },
          "metadata": {},
          "execution_count": 65
        }
      ],
      "source": [
        "ls =[1, 5, 3, 7, 9]\n",
        "k=12\n",
        "res = []\n",
        "while ls:\n",
        "        num = ls.pop()\n",
        "        diff = k - num\n",
        "        if diff in ls:\n",
        "            res.append((diff, num))\n",
        "res"
      ]
    }
  ],
  "metadata": {
    "kernelspec": {
      "display_name": "Python 3 (ipykernel)",
      "language": "python",
      "name": "python3"
    },
    "language_info": {
      "codemirror_mode": {
        "name": "ipython",
        "version": 3
      },
      "file_extension": ".py",
      "mimetype": "text/x-python",
      "name": "python",
      "nbconvert_exporter": "python",
      "pygments_lexer": "ipython3",
      "version": "3.9.7"
    },
    "colab": {
      "provenance": [],
      "include_colab_link": true
    }
  },
  "nbformat": 4,
  "nbformat_minor": 5
}