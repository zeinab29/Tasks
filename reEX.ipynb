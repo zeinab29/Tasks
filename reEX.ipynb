{
  "nbformat": 4,
  "nbformat_minor": 0,
  "metadata": {
    "colab": {
      "provenance": [],
      "authorship_tag": "ABX9TyMM5if98b++UBQI24LV79dc",
      "include_colab_link": true
    },
    "kernelspec": {
      "name": "python3",
      "display_name": "Python 3"
    },
    "language_info": {
      "name": "python"
    }
  },
  "cells": [
    {
      "cell_type": "markdown",
      "metadata": {
        "id": "view-in-github",
        "colab_type": "text"
      },
      "source": [
        "<a href=\"https://colab.research.google.com/github/zeinab29/Tasks/blob/main/reEX.ipynb\" target=\"_parent\"><img src=\"https://colab.research.google.com/assets/colab-badge.svg\" alt=\"Open In Colab\"/></a>"
      ]
    },
    {
      "cell_type": "code",
      "execution_count": 64,
      "metadata": {
        "id": "vWmdRZieu0Hg"
      },
      "outputs": [],
      "source": [
        "path = \"/content/file\"\n",
        "string = open(path,\"r\")"
      ]
    },
    {
      "cell_type": "code",
      "source": [
        "txt = string.read()\n",
        "txt"
      ],
      "metadata": {
        "colab": {
          "base_uri": "https://localhost:8080/",
          "height": 36
        },
        "id": "KM4sX39Zv8gn",
        "outputId": "b2cc059f-4af1-4d15-8afa-d059ac24eaec"
      },
      "execution_count": 65,
      "outputs": [
        {
          "output_type": "execute_result",
          "data": {
            "text/plain": [
              "'Zeinab Salem-01025869431- zesa@gmail.com\\n\\nAmr Ahmed,01258647358, ammrah55@gmail.com'"
            ],
            "application/vnd.google.colaboratory.intrinsic+json": {
              "type": "string"
            }
          },
          "metadata": {},
          "execution_count": 65
        }
      ]
    },
    {
      "cell_type": "code",
      "source": [
        "import re\n",
        "nameList = []\n",
        "names=re.findall(r\"[A-Z][a-z]+\\s+[A-Z][a-z]+\"\t, txt)\n",
        "phones = re.findall(r\"\\d{10}\"\t, txt)\n",
        "mails = re.findall(r\"[A-Za-z0-9._%+-]+@[A-Za-z0-9.-]+\\.[A-Za-z]{2,}\"\t, txt)\n",
        "print(\"Names: \",names)\n",
        "print(\"phones: \",phones)\n",
        "print(\"mails: \",mails)\n",
        "\n"
      ],
      "metadata": {
        "colab": {
          "base_uri": "https://localhost:8080/"
        },
        "id": "n6hnyxzwv9zE",
        "outputId": "9f48aedc-2fec-43b6-85a7-885ba0850f44"
      },
      "execution_count": 66,
      "outputs": [
        {
          "output_type": "stream",
          "name": "stdout",
          "text": [
            "Names:  ['Zeinab Salem', 'Amr Ahmed']\n",
            "phones:  ['0102586943', '0125864735']\n",
            "mails:  ['zesa@gmail.com', 'ammrah55@gmail.com']\n"
          ]
        }
      ]
    },
    {
      "cell_type": "code",
      "source": [],
      "metadata": {
        "id": "Ud1g6ohcx0ye"
      },
      "execution_count": null,
      "outputs": []
    }
  ]
}