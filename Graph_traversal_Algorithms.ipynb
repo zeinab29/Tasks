{
  "nbformat": 4,
  "nbformat_minor": 0,
  "metadata": {
    "colab": {
      "provenance": [],
      "authorship_tag": "ABX9TyOufUyFtflqfqXemNe9OuSe",
      "include_colab_link": true
    },
    "kernelspec": {
      "name": "python3",
      "display_name": "Python 3"
    },
    "language_info": {
      "name": "python"
    }
  },
  "cells": [
    {
      "cell_type": "markdown",
      "metadata": {
        "id": "view-in-github",
        "colab_type": "text"
      },
      "source": [
        "<a href=\"https://colab.research.google.com/github/zeinab29/Tasks/blob/main/Graph_traversal_Algorithms.ipynb\" target=\"_parent\"><img src=\"https://colab.research.google.com/assets/colab-badge.svg\" alt=\"Open In Colab\"/></a>"
      ]
    },
    {
      "cell_type": "code",
      "execution_count": 1,
      "metadata": {
        "id": "FO4SL3_DxqI7"
      },
      "outputs": [],
      "source": [
        "class Graph:\n",
        "    def __init__(self):\n",
        "        self.vertices = {}\n",
        "\n",
        "    def add_vertex(self, vertex):\n",
        "        if vertex not in self.vertices:\n",
        "            self.vertices[vertex] = []\n",
        "\n",
        "    def add_edge(self, vertex1, vertex2):\n",
        "        if vertex1 in self.vertices and vertex2 in self.vertices:\n",
        "            self.vertices[vertex1].append(vertex2)\n",
        "            self.vertices[vertex2].append(vertex1)\n",
        "\n",
        "    def get_neighbors(self, vertex):\n",
        "        if vertex in self.vertices:\n",
        "            return self.vertices[vertex]\n",
        "        else:\n",
        "            return []"
      ]
    },
    {
      "cell_type": "code",
      "source": [
        "# Example usage:\n",
        "graph = Graph()\n",
        "graph.add_vertex(1)\n",
        "graph.add_vertex(2)\n",
        "graph.add_vertex(3)\n",
        "\n",
        "graph.add_edge(1, 2)\n",
        "graph.add_edge(2, 3)\n",
        "\n",
        "print(graph.get_neighbors(1))\n",
        "print(graph.get_neighbors(2))"
      ],
      "metadata": {
        "colab": {
          "base_uri": "https://localhost:8080/"
        },
        "id": "0OUthcSmyeXn",
        "outputId": "9509fe14-4617-45c5-f56d-d3609d156d27"
      },
      "execution_count": 5,
      "outputs": [
        {
          "output_type": "stream",
          "name": "stdout",
          "text": [
            "[2]\n",
            "[1, 3]\n"
          ]
        }
      ]
    },
    {
      "cell_type": "code",
      "source": [],
      "metadata": {
        "id": "21pw047Lylru"
      },
      "execution_count": null,
      "outputs": []
    }
  ]
}